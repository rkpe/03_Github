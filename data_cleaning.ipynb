{
  "cells": [
    {
      "cell_type": "markdown",
      "metadata": {
        "id": "view-in-github",
        "colab_type": "text"
      },
      "source": [
        "<a href=\"https://colab.research.google.com/github/rkpe/03_Github/blob/master/data_cleaning.ipynb\" target=\"_parent\"><img src=\"https://colab.research.google.com/assets/colab-badge.svg\" alt=\"Open In Colab\"/></a>"
      ]
    },
    {
      "cell_type": "markdown",
      "metadata": {
        "id": "CeyvEsHRlh9o"
      },
      "source": [
        "### CROP Recommendation"
      ]
    },
    {
      "cell_type": "code",
      "execution_count": 56,
      "metadata": {
        "id": "dNYRrHQSlh9q"
      },
      "outputs": [],
      "source": [
        "import pandas as pd\n",
        "import numpy as np\n",
        "import matplotlib.pyplot as plt\n",
        "import seaborn as sns\n",
        "\n",
        "from sklearn.model_selection import train_test_split, GridSearchCV, RepeatedStratifiedKFold\n",
        "from sklearn import metrics\n",
        "from sklearn.metrics import confusion_matrix, ConfusionMatrixDisplay\n",
        "from sklearn.pipeline import make_pipeline, Pipeline\n",
        "from sklearn.impute import SimpleImputer\n",
        "from sklearn.preprocessing import StandardScaler, OneHotEncoder\n",
        "from sklearn.compose import ColumnTransformer\n",
        "from sklearn.model_selection import cross_val_score\n",
        "from sklearn.linear_model import LinearRegression\n",
        "from sklearn.tree import DecisionTreeRegressor, export_graphviz \n",
        "from sklearn.ensemble import RandomForestRegressor\n",
        "from sklearn.preprocessing import OrdinalEncoder\n",
        "from sklearn.datasets import make_regression\n",
        "from sklearn.multioutput import MultiOutputRegressor"
      ]
    },
    {
      "cell_type": "code",
      "source": [
        "def loadData(filename):\n",
        "  data = pd.read_csv(filename)\n",
        "  return data"
      ],
      "metadata": {
        "id": "O2cdYl26pAW9"
      },
      "execution_count": 2,
      "outputs": []
    },
    {
      "cell_type": "code",
      "execution_count": 3,
      "metadata": {
        "id": "Go6d0LOElh9r"
      },
      "outputs": [],
      "source": [
        "#Read in the data from the github repo, you should also have this saved locally...\n",
        "crop = loadData('Crops.csv')\n"
      ]
    },
    {
      "cell_type": "code",
      "execution_count": 4,
      "metadata": {
        "colab": {
          "base_uri": "https://localhost:8080/"
        },
        "id": "0J1EJtM3lh9r",
        "outputId": "ca1a9c1d-f15a-40e6-f94b-04712cfc5b62"
      },
      "outputs": [
        {
          "output_type": "stream",
          "name": "stdout",
          "text": [
            "<class 'pandas.core.frame.DataFrame'>\n",
            "RangeIndex: 2484 entries, 0 to 2483\n",
            "Data columns (total 80 columns):\n",
            " #   Column                                       Non-Null Count  Dtype  \n",
            "---  ------                                       --------------  -----  \n",
            " 0   Dist Code                                    2484 non-null   int64  \n",
            " 1   Year                                         2484 non-null   int64  \n",
            " 2   State Code                                   2484 non-null   int64  \n",
            " 3   State Name                                   2484 non-null   object \n",
            " 4   Dist Name                                    2484 non-null   object \n",
            " 5   RICE AREA (1000 ha)                          2484 non-null   float64\n",
            " 6   RICE PRODUCTION (1000 tons)                  2484 non-null   float64\n",
            " 7   RICE YIELD (Kg per ha)                       2484 non-null   float64\n",
            " 8   WHEAT AREA (1000 ha)                         2484 non-null   float64\n",
            " 9   WHEAT PRODUCTION (1000 tons)                 2484 non-null   float64\n",
            " 10  WHEAT YIELD (Kg per ha)                      2484 non-null   float64\n",
            " 11  KHARIF SORGHUM AREA (1000 ha)                2484 non-null   float64\n",
            " 12  KHARIF SORGHUM PRODUCTION (1000 tons)        2484 non-null   float64\n",
            " 13  KHARIF SORGHUM YIELD (Kg per ha)             2484 non-null   float64\n",
            " 14  RABI SORGHUM AREA (1000 ha)                  2484 non-null   float64\n",
            " 15  RABI SORGHUM PRODUCTION (1000 tons)          2484 non-null   float64\n",
            " 16  RABI SORGHUM YIELD (Kg per ha)               2484 non-null   float64\n",
            " 17  SORGHUM AREA (1000 ha)                       2484 non-null   float64\n",
            " 18  SORGHUM PRODUCTION (1000 tons)               2484 non-null   float64\n",
            " 19  SORGHUM YIELD (Kg per ha)                    2484 non-null   float64\n",
            " 20  PEARL MILLET AREA (1000 ha)                  2484 non-null   float64\n",
            " 21  PEARL MILLET PRODUCTION (1000 tons)          2484 non-null   float64\n",
            " 22  PEARL MILLET YIELD (Kg per ha)               2484 non-null   float64\n",
            " 23  MAIZE AREA (1000 ha)                         2484 non-null   float64\n",
            " 24  MAIZE PRODUCTION (1000 tons)                 2484 non-null   float64\n",
            " 25  MAIZE YIELD (Kg per ha)                      2484 non-null   float64\n",
            " 26  FINGER MILLET AREA (1000 ha)                 2484 non-null   float64\n",
            " 27  FINGER MILLET PRODUCTION (1000 tons)         2484 non-null   float64\n",
            " 28  FINGER MILLET YIELD (Kg per ha)              2484 non-null   float64\n",
            " 29  BARLEY AREA (1000 ha)                        2484 non-null   float64\n",
            " 30  BARLEY PRODUCTION (1000 tons)                2484 non-null   float64\n",
            " 31  BARLEY YIELD (Kg per ha)                     2484 non-null   float64\n",
            " 32  CHICKPEA AREA (1000 ha)                      2484 non-null   float64\n",
            " 33  CHICKPEA PRODUCTION (1000 tons)              2484 non-null   float64\n",
            " 34  CHICKPEA YIELD (Kg per ha)                   2484 non-null   float64\n",
            " 35  PIGEONPEA AREA (1000 ha)                     2484 non-null   float64\n",
            " 36  PIGEONPEA PRODUCTION (1000 tons)             2484 non-null   float64\n",
            " 37  PIGEONPEA YIELD (Kg per ha)                  2484 non-null   float64\n",
            " 38  MINOR PULSES AREA (1000 ha)                  2484 non-null   float64\n",
            " 39  MINOR PULSES PRODUCTION (1000 tons)          2484 non-null   float64\n",
            " 40  MINOR PULSES YIELD (Kg per ha)               2484 non-null   float64\n",
            " 41  GROUNDNUT AREA (1000 ha)                     2484 non-null   float64\n",
            " 42  GROUNDNUT PRODUCTION (1000 tons)             2484 non-null   float64\n",
            " 43  GROUNDNUT YIELD (Kg per ha)                  2484 non-null   float64\n",
            " 44  SESAMUM AREA (1000 ha)                       2484 non-null   float64\n",
            " 45  SESAMUM PRODUCTION (1000 tons)               2484 non-null   float64\n",
            " 46  SESAMUM YIELD (Kg per ha)                    2484 non-null   float64\n",
            " 47  RAPESEED AND MUSTARD AREA (1000 ha)          2484 non-null   float64\n",
            " 48  RAPESEED AND MUSTARD PRODUCTION (1000 tons)  2484 non-null   float64\n",
            " 49  RAPESEED AND MUSTARD YIELD (Kg per ha)       2484 non-null   float64\n",
            " 50  SAFFLOWER AREA (1000 ha)                     2484 non-null   float64\n",
            " 51  SAFFLOWER PRODUCTION (1000 tons)             2484 non-null   float64\n",
            " 52  SAFFLOWER YIELD (Kg per ha)                  2484 non-null   float64\n",
            " 53  CASTOR AREA (1000 ha)                        2484 non-null   float64\n",
            " 54  CASTOR PRODUCTION (1000 tons)                2484 non-null   float64\n",
            " 55  CASTOR YIELD (Kg per ha)                     2484 non-null   float64\n",
            " 56  LINSEED AREA (1000 ha)                       2484 non-null   float64\n",
            " 57  LINSEED PRODUCTION (1000 tons)               2484 non-null   float64\n",
            " 58  LINSEED YIELD (Kg per ha)                    2484 non-null   float64\n",
            " 59  SUNFLOWER AREA (1000 ha)                     2484 non-null   float64\n",
            " 60  SUNFLOWER PRODUCTION (1000 tons)             2484 non-null   float64\n",
            " 61  SUNFLOWER YIELD (Kg per ha)                  2484 non-null   float64\n",
            " 62  SOYABEAN AREA (1000 ha)                      2484 non-null   float64\n",
            " 63  SOYABEAN PRODUCTION (1000 tons)              2484 non-null   float64\n",
            " 64  SOYABEAN YIELD (Kg per ha)                   2484 non-null   float64\n",
            " 65  OILSEEDS AREA (1000 ha)                      2484 non-null   float64\n",
            " 66  OILSEEDS PRODUCTION (1000 tons)              2484 non-null   float64\n",
            " 67  OILSEEDS YIELD (Kg per ha)                   2484 non-null   float64\n",
            " 68  SUGARCANE AREA (1000 ha)                     2484 non-null   float64\n",
            " 69  SUGARCANE PRODUCTION (1000 tons)             2484 non-null   float64\n",
            " 70  SUGARCANE YIELD (Kg per ha)                  2484 non-null   float64\n",
            " 71  COTTON AREA (1000 ha)                        2484 non-null   float64\n",
            " 72  COTTON PRODUCTION (1000 tons)                2484 non-null   float64\n",
            " 73  COTTON YIELD (Kg per ha)                     2484 non-null   float64\n",
            " 74  FRUITS AREA (1000 ha)                        2484 non-null   float64\n",
            " 75  VEGETABLES AREA (1000 ha)                    2484 non-null   float64\n",
            " 76  FRUITS AND VEGETABLES AREA (1000 ha)         2484 non-null   float64\n",
            " 77  POTATOES AREA (1000 ha)                      2484 non-null   float64\n",
            " 78  ONION AREA (1000 ha)                         2484 non-null   float64\n",
            " 79  FODDER AREA (1000 ha)                        2484 non-null   float64\n",
            "dtypes: float64(75), int64(3), object(2)\n",
            "memory usage: 1.5+ MB\n"
          ]
        }
      ],
      "source": [
        "#Let's take a look...\n",
        "crop.info()\n"
      ]
    },
    {
      "cell_type": "code",
      "execution_count": 5,
      "metadata": {
        "id": "KuGwo4Sjlh9s"
      },
      "outputs": [],
      "source": [
        "\n",
        "cols =  ['Dist Code', 'Year', 'State Code', 'State Name' , 'Dist Name', 'RICE YIELD (Kg per ha)', 'WHEAT YIELD (Kg per ha)', 'SUGARCANE YIELD (Kg per ha)','MAIZE YIELD (Kg per ha)']\n",
        "crop = crop[cols]"
      ]
    },
    {
      "cell_type": "code",
      "execution_count": 6,
      "metadata": {
        "id": "JwcG-cQZlh9s"
      },
      "outputs": [],
      "source": [
        "fert = loadData('Fertilizer_Consumption.csv')"
      ]
    },
    {
      "cell_type": "code",
      "execution_count": 7,
      "metadata": {
        "colab": {
          "base_uri": "https://localhost:8080/"
        },
        "id": "ySfhCCK9lh9t",
        "outputId": "f9c5be7c-80cb-4cb1-e19d-07937d080a1b"
      },
      "outputs": [
        {
          "output_type": "stream",
          "name": "stdout",
          "text": [
            "<class 'pandas.core.frame.DataFrame'>\n",
            "RangeIndex: 2481 entries, 0 to 2480\n",
            "Data columns (total 20 columns):\n",
            " #   Column                               Non-Null Count  Dtype  \n",
            "---  ------                               --------------  -----  \n",
            " 0   Dist Code                            2481 non-null   int64  \n",
            " 1   Year                                 2481 non-null   int64  \n",
            " 2   State Code                           2481 non-null   int64  \n",
            " 3   State Name                           2481 non-null   object \n",
            " 4   Dist Name                            2481 non-null   object \n",
            " 5   NITROGEN CONSUMPTION (tons)          2481 non-null   float64\n",
            " 6   NITROGEN SHARE IN NPK (Percent)      2481 non-null   float64\n",
            " 7   NITROGEN PER HA OF NCA (Kg per ha)   2481 non-null   float64\n",
            " 8   NITROGEN PER HA OF GCA (Kg per ha)   2481 non-null   float64\n",
            " 9   PHOSPHATE CONSUMPTION (tons)         2481 non-null   float64\n",
            " 10  PHOSPHATE SHARE IN NPK (Percent)     2481 non-null   float64\n",
            " 11  PHOSPHATE PER HA OF NCA (Kg per ha)  2481 non-null   float64\n",
            " 12  PHOSPHATE PER HA OF GCA (Kg per ha)  2481 non-null   float64\n",
            " 13  POTASH CONSUMPTION (tons)            2481 non-null   float64\n",
            " 14  POTASH SHARE IN NPK (Percent)        2481 non-null   float64\n",
            " 15  POTASH PER HA OF NCA (Kg per ha)     2481 non-null   float64\n",
            " 16  POTASH PER HA OF GCA (Kg per ha)     2481 non-null   float64\n",
            " 17  TOTAL CONSUMPTION (tons)             2481 non-null   float64\n",
            " 18  TOTAL PER HA OF NCA (Kg per ha)      2481 non-null   float64\n",
            " 19  TOTAL PER HA OF GCA (Kg per ha)      2481 non-null   float64\n",
            "dtypes: float64(15), int64(3), object(2)\n",
            "memory usage: 387.8+ KB\n"
          ]
        }
      ],
      "source": [
        "fert.info()"
      ]
    },
    {
      "cell_type": "code",
      "execution_count": 8,
      "metadata": {
        "id": "b5VoDg5Dlh9t"
      },
      "outputs": [],
      "source": [
        "colsf = ['Dist Code', 'Year', 'NITROGEN SHARE IN NPK (Percent)', 'PHOSPHATE SHARE IN NPK (Percent)', 'POTASH SHARE IN NPK (Percent)']\n",
        "fert = fert[colsf]"
      ]
    },
    {
      "cell_type": "code",
      "execution_count": 9,
      "metadata": {
        "id": "aIrfLEjMlh9u"
      },
      "outputs": [],
      "source": [
        "curr = pd.merge(crop, fert, how = 'left', on=['Dist Code','Year'])"
      ]
    },
    {
      "cell_type": "code",
      "execution_count": 10,
      "metadata": {
        "colab": {
          "base_uri": "https://localhost:8080/"
        },
        "id": "2tu5IUXKlh9u",
        "outputId": "071aa182-1a2c-42b8-fc63-a71f8a841e56"
      },
      "outputs": [
        {
          "output_type": "execute_result",
          "data": {
            "text/plain": [
              "(array([752, 752, 752, 754, 754, 754, 755, 755, 755]),\n",
              " array([ 9, 10, 11,  9, 10, 11,  9, 10, 11]))"
            ]
          },
          "metadata": {},
          "execution_count": 10
        }
      ],
      "source": [
        "np.where(curr.isnull() == True)"
      ]
    },
    {
      "cell_type": "code",
      "execution_count": 11,
      "metadata": {
        "colab": {
          "base_uri": "https://localhost:8080/"
        },
        "id": "_OYtHzgHlh9u",
        "outputId": "1d84259c-e219-4c47-b090-a0b0c32d37b9"
      },
      "outputs": [
        {
          "output_type": "execute_result",
          "data": {
            "text/plain": [
              "Dist Code                                    95\n",
              "Year                                       2010\n",
              "State Code                                    7\n",
              "State Name                          Maharashtra\n",
              "Dist Name                                Bombay\n",
              "RICE YIELD (Kg per ha)                      0.0\n",
              "WHEAT YIELD (Kg per ha)                     0.0\n",
              "SUGARCANE YIELD (Kg per ha)                 0.0\n",
              "MAIZE YIELD (Kg per ha)                     0.0\n",
              "NITROGEN SHARE IN NPK (Percent)             NaN\n",
              "PHOSPHATE SHARE IN NPK (Percent)            NaN\n",
              "POTASH SHARE IN NPK (Percent)               NaN\n",
              "Name: 752, dtype: object"
            ]
          },
          "metadata": {},
          "execution_count": 11
        }
      ],
      "source": [
        "curr.iloc[752] #useless rows, let's drop"
      ]
    },
    {
      "cell_type": "code",
      "execution_count": 12,
      "metadata": {
        "id": "uU96rIhSlh9v"
      },
      "outputs": [],
      "source": [
        "curr  = curr.dropna()"
      ]
    },
    {
      "cell_type": "code",
      "execution_count": 13,
      "metadata": {
        "colab": {
          "base_uri": "https://localhost:8080/"
        },
        "id": "Fnv1rtXylh9v",
        "outputId": "e4980183-f454-4b73-aa2d-b8bde116ebe3"
      },
      "outputs": [
        {
          "output_type": "stream",
          "name": "stdout",
          "text": [
            "<class 'pandas.core.frame.DataFrame'>\n",
            "Int64Index: 2481 entries, 0 to 2483\n",
            "Data columns (total 12 columns):\n",
            " #   Column                            Non-Null Count  Dtype  \n",
            "---  ------                            --------------  -----  \n",
            " 0   Dist Code                         2481 non-null   int64  \n",
            " 1   Year                              2481 non-null   int64  \n",
            " 2   State Code                        2481 non-null   int64  \n",
            " 3   State Name                        2481 non-null   object \n",
            " 4   Dist Name                         2481 non-null   object \n",
            " 5   RICE YIELD (Kg per ha)            2481 non-null   float64\n",
            " 6   WHEAT YIELD (Kg per ha)           2481 non-null   float64\n",
            " 7   SUGARCANE YIELD (Kg per ha)       2481 non-null   float64\n",
            " 8   MAIZE YIELD (Kg per ha)           2481 non-null   float64\n",
            " 9   NITROGEN SHARE IN NPK (Percent)   2481 non-null   float64\n",
            " 10  PHOSPHATE SHARE IN NPK (Percent)  2481 non-null   float64\n",
            " 11  POTASH SHARE IN NPK (Percent)     2481 non-null   float64\n",
            "dtypes: float64(7), int64(3), object(2)\n",
            "memory usage: 252.0+ KB\n"
          ]
        }
      ],
      "source": [
        "curr.info()"
      ]
    },
    {
      "cell_type": "code",
      "execution_count": 14,
      "metadata": {
        "id": "_9nTbTMwlh9v"
      },
      "outputs": [],
      "source": [
        "period = loadData('Crop_growing_period.csv')"
      ]
    },
    {
      "cell_type": "code",
      "execution_count": 15,
      "metadata": {
        "id": "YGX0O4Hblh9v"
      },
      "outputs": [],
      "source": [
        "period = period[['Dist Code', 'LENGTH OF GROWING PERIOD DAYS (Number)']]"
      ]
    },
    {
      "cell_type": "code",
      "execution_count": 16,
      "metadata": {
        "colab": {
          "base_uri": "https://localhost:8080/"
        },
        "id": "K-bL1Ikulh9w",
        "outputId": "cf13e52a-8118-4403-8ba4-febaa852a8cf"
      },
      "outputs": [
        {
          "output_type": "stream",
          "name": "stdout",
          "text": [
            "<class 'pandas.core.frame.DataFrame'>\n",
            "RangeIndex: 313 entries, 0 to 312\n",
            "Data columns (total 2 columns):\n",
            " #   Column                                  Non-Null Count  Dtype\n",
            "---  ------                                  --------------  -----\n",
            " 0   Dist Code                               313 non-null    int64\n",
            " 1   LENGTH OF GROWING PERIOD DAYS (Number)  313 non-null    int64\n",
            "dtypes: int64(2)\n",
            "memory usage: 5.0 KB\n"
          ]
        }
      ],
      "source": [
        "period.info()"
      ]
    },
    {
      "cell_type": "code",
      "execution_count": 17,
      "metadata": {
        "id": "DdAtkeVWlh9w"
      },
      "outputs": [],
      "source": [
        "curr = pd.merge(curr, period, how = 'left', on=['Dist Code'])"
      ]
    },
    {
      "cell_type": "code",
      "execution_count": 18,
      "metadata": {
        "id": "AeCd6kCMlh9w"
      },
      "outputs": [],
      "source": [
        "curr = curr.replace(-1, np.NaN)"
      ]
    },
    {
      "cell_type": "code",
      "execution_count": 19,
      "metadata": {
        "colab": {
          "base_uri": "https://localhost:8080/"
        },
        "id": "MYRUgsuSlh9w",
        "outputId": "6430a69f-68f4-4521-d5f7-8c9f8d9e58a3"
      },
      "outputs": [
        {
          "output_type": "stream",
          "name": "stdout",
          "text": [
            "<class 'pandas.core.frame.DataFrame'>\n",
            "Int64Index: 2481 entries, 0 to 2480\n",
            "Data columns (total 13 columns):\n",
            " #   Column                                  Non-Null Count  Dtype  \n",
            "---  ------                                  --------------  -----  \n",
            " 0   Dist Code                               2481 non-null   int64  \n",
            " 1   Year                                    2481 non-null   int64  \n",
            " 2   State Code                              2481 non-null   int64  \n",
            " 3   State Name                              2481 non-null   object \n",
            " 4   Dist Name                               2481 non-null   object \n",
            " 5   RICE YIELD (Kg per ha)                  2481 non-null   float64\n",
            " 6   WHEAT YIELD (Kg per ha)                 2481 non-null   float64\n",
            " 7   SUGARCANE YIELD (Kg per ha)             2481 non-null   float64\n",
            " 8   MAIZE YIELD (Kg per ha)                 2481 non-null   float64\n",
            " 9   NITROGEN SHARE IN NPK (Percent)         2481 non-null   float64\n",
            " 10  PHOSPHATE SHARE IN NPK (Percent)        2481 non-null   float64\n",
            " 11  POTASH SHARE IN NPK (Percent)           2481 non-null   float64\n",
            " 12  LENGTH OF GROWING PERIOD DAYS (Number)  2241 non-null   float64\n",
            "dtypes: float64(8), int64(3), object(2)\n",
            "memory usage: 271.4+ KB\n"
          ]
        }
      ],
      "source": [
        "curr.info()"
      ]
    },
    {
      "cell_type": "code",
      "execution_count": 20,
      "metadata": {
        "id": "ys2jFHTelh9w"
      },
      "outputs": [],
      "source": [
        "land = loadData('LandUse.csv')"
      ]
    },
    {
      "cell_type": "code",
      "execution_count": 21,
      "metadata": {
        "id": "ylO2U7vBlh9w"
      },
      "outputs": [],
      "source": [
        "land = land[['Dist Code','Year','TOTAL AREA (1000 ha)','NET CROPPED AREA (1000 ha)', 'GROSS CROPPED AREA (1000 ha)','CROPING INTENSITY (Percent)']]"
      ]
    },
    {
      "cell_type": "code",
      "execution_count": 22,
      "metadata": {
        "id": "Kh57JsWvlh9x"
      },
      "outputs": [],
      "source": [
        "land = land.replace(-1,0) #looked at data, it should be 0"
      ]
    },
    {
      "cell_type": "code",
      "execution_count": 23,
      "metadata": {
        "colab": {
          "base_uri": "https://localhost:8080/"
        },
        "id": "U3BEBGzglh9x",
        "outputId": "95d8ffcc-4fa4-40c9-cab0-25b7c840c3fd"
      },
      "outputs": [
        {
          "output_type": "stream",
          "name": "stdout",
          "text": [
            "<class 'pandas.core.frame.DataFrame'>\n",
            "RangeIndex: 2381 entries, 0 to 2380\n",
            "Data columns (total 6 columns):\n",
            " #   Column                        Non-Null Count  Dtype  \n",
            "---  ------                        --------------  -----  \n",
            " 0   Dist Code                     2381 non-null   int64  \n",
            " 1   Year                          2381 non-null   int64  \n",
            " 2   TOTAL AREA (1000 ha)          2381 non-null   float64\n",
            " 3   NET CROPPED AREA (1000 ha)    2381 non-null   float64\n",
            " 4   GROSS CROPPED AREA (1000 ha)  2381 non-null   float64\n",
            " 5   CROPING INTENSITY (Percent)   2381 non-null   float64\n",
            "dtypes: float64(4), int64(2)\n",
            "memory usage: 111.7 KB\n"
          ]
        }
      ],
      "source": [
        "land.info()"
      ]
    },
    {
      "cell_type": "code",
      "execution_count": 24,
      "metadata": {
        "id": "qhUoX3Lelh9x"
      },
      "outputs": [],
      "source": [
        "curr = pd.merge(curr, land, how = 'left', on=['Dist Code', 'Year'])"
      ]
    },
    {
      "cell_type": "code",
      "execution_count": 25,
      "metadata": {
        "colab": {
          "base_uri": "https://localhost:8080/"
        },
        "id": "yWFBnjjRlh9x",
        "outputId": "1ee7448c-3e24-440b-e24e-fdd5ea953d01"
      },
      "outputs": [
        {
          "output_type": "stream",
          "name": "stdout",
          "text": [
            "<class 'pandas.core.frame.DataFrame'>\n",
            "Int64Index: 2481 entries, 0 to 2480\n",
            "Data columns (total 17 columns):\n",
            " #   Column                                  Non-Null Count  Dtype  \n",
            "---  ------                                  --------------  -----  \n",
            " 0   Dist Code                               2481 non-null   int64  \n",
            " 1   Year                                    2481 non-null   int64  \n",
            " 2   State Code                              2481 non-null   int64  \n",
            " 3   State Name                              2481 non-null   object \n",
            " 4   Dist Name                               2481 non-null   object \n",
            " 5   RICE YIELD (Kg per ha)                  2481 non-null   float64\n",
            " 6   WHEAT YIELD (Kg per ha)                 2481 non-null   float64\n",
            " 7   SUGARCANE YIELD (Kg per ha)             2481 non-null   float64\n",
            " 8   MAIZE YIELD (Kg per ha)                 2481 non-null   float64\n",
            " 9   NITROGEN SHARE IN NPK (Percent)         2481 non-null   float64\n",
            " 10  PHOSPHATE SHARE IN NPK (Percent)        2481 non-null   float64\n",
            " 11  POTASH SHARE IN NPK (Percent)           2481 non-null   float64\n",
            " 12  LENGTH OF GROWING PERIOD DAYS (Number)  2241 non-null   float64\n",
            " 13  TOTAL AREA (1000 ha)                    2366 non-null   float64\n",
            " 14  NET CROPPED AREA (1000 ha)              2366 non-null   float64\n",
            " 15  GROSS CROPPED AREA (1000 ha)            2366 non-null   float64\n",
            " 16  CROPING INTENSITY (Percent)             2366 non-null   float64\n",
            "dtypes: float64(12), int64(3), object(2)\n",
            "memory usage: 348.9+ KB\n"
          ]
        }
      ],
      "source": [
        "curr.info() "
      ]
    },
    {
      "cell_type": "code",
      "execution_count": 26,
      "metadata": {
        "id": "y5MRjShxlh9x"
      },
      "outputs": [],
      "source": [
        "#just missing some years (2017), so let's average\n",
        "list = ['TOTAL AREA (1000 ha)','NET CROPPED AREA (1000 ha)', 'GROSS CROPPED AREA (1000 ha)','CROPING INTENSITY (Percent)']\n",
        "for x in list:\n",
        "    curr[x] = curr.groupby(\"Dist Code\")[x].transform(\n",
        "        lambda x: x.fillna(x.mean()))"
      ]
    },
    {
      "cell_type": "code",
      "execution_count": 27,
      "metadata": {
        "colab": {
          "base_uri": "https://localhost:8080/"
        },
        "id": "85o-LW1slh9y",
        "outputId": "ac041865-e475-4b43-c4b1-70de77f7a5c2"
      },
      "outputs": [
        {
          "output_type": "stream",
          "name": "stdout",
          "text": [
            "<class 'pandas.core.frame.DataFrame'>\n",
            "Int64Index: 2481 entries, 0 to 2480\n",
            "Data columns (total 17 columns):\n",
            " #   Column                                  Non-Null Count  Dtype  \n",
            "---  ------                                  --------------  -----  \n",
            " 0   Dist Code                               2481 non-null   int64  \n",
            " 1   Year                                    2481 non-null   int64  \n",
            " 2   State Code                              2481 non-null   int64  \n",
            " 3   State Name                              2481 non-null   object \n",
            " 4   Dist Name                               2481 non-null   object \n",
            " 5   RICE YIELD (Kg per ha)                  2481 non-null   float64\n",
            " 6   WHEAT YIELD (Kg per ha)                 2481 non-null   float64\n",
            " 7   SUGARCANE YIELD (Kg per ha)             2481 non-null   float64\n",
            " 8   MAIZE YIELD (Kg per ha)                 2481 non-null   float64\n",
            " 9   NITROGEN SHARE IN NPK (Percent)         2481 non-null   float64\n",
            " 10  PHOSPHATE SHARE IN NPK (Percent)        2481 non-null   float64\n",
            " 11  POTASH SHARE IN NPK (Percent)           2481 non-null   float64\n",
            " 12  LENGTH OF GROWING PERIOD DAYS (Number)  2241 non-null   float64\n",
            " 13  TOTAL AREA (1000 ha)                    2481 non-null   float64\n",
            " 14  NET CROPPED AREA (1000 ha)              2481 non-null   float64\n",
            " 15  GROSS CROPPED AREA (1000 ha)            2481 non-null   float64\n",
            " 16  CROPING INTENSITY (Percent)             2481 non-null   float64\n",
            "dtypes: float64(12), int64(3), object(2)\n",
            "memory usage: 348.9+ KB\n"
          ]
        }
      ],
      "source": [
        "curr.info()"
      ]
    },
    {
      "cell_type": "code",
      "execution_count": 28,
      "metadata": {
        "id": "gh3TYggblh9y"
      },
      "outputs": [],
      "source": [
        "rain = loadData('Monthly_Rainfall.csv')"
      ]
    },
    {
      "cell_type": "code",
      "execution_count": 29,
      "metadata": {
        "colab": {
          "base_uri": "https://localhost:8080/"
        },
        "id": "GNE4dBCKlh9y",
        "outputId": "3e3e46f6-940f-4c24-e819-d33d3ec4f63d"
      },
      "outputs": [
        {
          "output_type": "stream",
          "name": "stdout",
          "text": [
            "<class 'pandas.core.frame.DataFrame'>\n",
            "RangeIndex: 1703 entries, 0 to 1702\n",
            "Data columns (total 18 columns):\n",
            " #   Column                            Non-Null Count  Dtype  \n",
            "---  ------                            --------------  -----  \n",
            " 0   Dist Code                         1703 non-null   int64  \n",
            " 1   Year                              1703 non-null   int64  \n",
            " 2   State Code                        1703 non-null   int64  \n",
            " 3   State Name                        1703 non-null   object \n",
            " 4   Dist Name                         1703 non-null   object \n",
            " 5   JANUARY RAINFALL (Millimeters)    1703 non-null   float64\n",
            " 6   FEBRUARY RAINFALL (Millimeters)   1703 non-null   float64\n",
            " 7   MARCH RAINFALL (Millimeters)      1703 non-null   float64\n",
            " 8   APRIL RAINFALL (Millimeters)      1703 non-null   float64\n",
            " 9   MAY RAINFALL (Millimeters)        1703 non-null   float64\n",
            " 10  JUNE RAINFALL (Millimeters)       1703 non-null   float64\n",
            " 11  JULY RAINFALL (Millimeters)       1703 non-null   float64\n",
            " 12  AUGUST RAINFALL (Millimeters)     1703 non-null   float64\n",
            " 13  SEPTEMBER RAINFALL (Millimeters)  1703 non-null   float64\n",
            " 14  OCTOBER RAINFALL (Millimeters)    1703 non-null   float64\n",
            " 15  NOVEMBER RAINFALL (Millimeters)   1703 non-null   float64\n",
            " 16  DECEMBER RAINFALL (Millimeters)   1703 non-null   float64\n",
            " 17  ANNUAL RAINFALL (Millimeters)     1703 non-null   float64\n",
            "dtypes: float64(13), int64(3), object(2)\n",
            "memory usage: 239.6+ KB\n"
          ]
        }
      ],
      "source": [
        "rain.info()"
      ]
    },
    {
      "cell_type": "code",
      "execution_count": 30,
      "metadata": {
        "id": "F_GT_FWrlh9y"
      },
      "outputs": [],
      "source": [
        "rain = rain[['Dist Code', 'Year', 'ANNUAL RAINFALL (Millimeters)']]"
      ]
    },
    {
      "cell_type": "code",
      "execution_count": 31,
      "metadata": {
        "id": "eVo0EbvKlh9y"
      },
      "outputs": [],
      "source": [
        "curr1 = pd.merge(curr, rain, how = 'left', on=['Dist Code', 'Year'])"
      ]
    },
    {
      "cell_type": "code",
      "execution_count": 32,
      "metadata": {
        "colab": {
          "base_uri": "https://localhost:8080/",
          "height": 514
        },
        "id": "nVnuL81clh9y",
        "outputId": "f1e4bc1f-46b3-4c6b-a188-1979482a21ba"
      },
      "outputs": [
        {
          "output_type": "execute_result",
          "data": {
            "text/plain": [
              "   Dist Code  Year  State Code    State Name Dist Name  \\\n",
              "0          1  2010          14  Chhattisgarh      Durg   \n",
              "1          1  2011          14  Chhattisgarh      Durg   \n",
              "2          1  2012          14  Chhattisgarh      Durg   \n",
              "3          1  2013          14  Chhattisgarh      Durg   \n",
              "4          1  2014          14  Chhattisgarh      Durg   \n",
              "5          1  2015          14  Chhattisgarh      Durg   \n",
              "6          1  2016          14  Chhattisgarh      Durg   \n",
              "7          1  2017          14  Chhattisgarh      Durg   \n",
              "8          2  2010          14  Chhattisgarh    Bastar   \n",
              "9          2  2011          14  Chhattisgarh    Bastar   \n",
              "\n",
              "   RICE YIELD (Kg per ha)  WHEAT YIELD (Kg per ha)  \\\n",
              "0                 1695.77                   994.69   \n",
              "1                 1756.23                  1115.68   \n",
              "2                 1900.97                  1087.10   \n",
              "3                 1581.86                  1043.06   \n",
              "4                 1729.89                  1151.49   \n",
              "5                 1076.95                  1120.74   \n",
              "6                 2085.96                  1263.55   \n",
              "7                 1168.92                  1153.77   \n",
              "8                 1905.45                  2000.00   \n",
              "9                 1231.23                  1872.18   \n",
              "\n",
              "   SUGARCANE YIELD (Kg per ha)  MAIZE YIELD (Kg per ha)  \\\n",
              "0                       256.96                  1457.32   \n",
              "1                       506.02                  1285.56   \n",
              "2                       252.98                  1538.56   \n",
              "3                       237.45                  1742.20   \n",
              "4                       602.17                  1451.66   \n",
              "5                       228.49                  1467.17   \n",
              "6                       389.38                  2028.48   \n",
              "7                       181.06                  1956.03   \n",
              "8                       117.65                  2025.21   \n",
              "9                       629.63                  2063.00   \n",
              "\n",
              "   NITROGEN SHARE IN NPK (Percent)  PHOSPHATE SHARE IN NPK (Percent)  \\\n",
              "0                            54.47                             31.79   \n",
              "1                            53.56                             33.69   \n",
              "2                            58.43                             31.47   \n",
              "3                            58.05                             30.36   \n",
              "4                            56.70                             33.33   \n",
              "5                            57.14                             32.69   \n",
              "6                            54.12                             35.04   \n",
              "7                            56.47                             33.03   \n",
              "8                            52.94                             30.45   \n",
              "9                            54.65                             34.03   \n",
              "\n",
              "   POTASH SHARE IN NPK (Percent)  LENGTH OF GROWING PERIOD DAYS (Number)  \\\n",
              "0                          13.75                                   164.0   \n",
              "1                          12.75                                   164.0   \n",
              "2                          10.11                                   164.0   \n",
              "3                          11.59                                   164.0   \n",
              "4                           9.97                                   164.0   \n",
              "5                          10.17                                   164.0   \n",
              "6                          10.85                                   164.0   \n",
              "7                          10.49                                   164.0   \n",
              "8                          16.61                                   194.0   \n",
              "9                          11.32                                   194.0   \n",
              "\n",
              "   TOTAL AREA (1000 ha)  NET CROPPED AREA (1000 ha)  \\\n",
              "0               1988.17                 1028.600000   \n",
              "1               1988.17                 1030.410000   \n",
              "2               1988.17                 1029.070000   \n",
              "3               1639.34                 1030.520000   \n",
              "4               1640.28                 1026.150000   \n",
              "5               1640.28                 1030.000000   \n",
              "6               1988.17                 1038.210000   \n",
              "7               1838.94                 1030.422857   \n",
              "8               3905.76                  836.850000   \n",
              "9               3905.76                  813.450000   \n",
              "\n",
              "   GROSS CROPPED AREA (1000 ha)  CROPING INTENSITY (Percent)  \\\n",
              "0                   1405.630000                       136.65   \n",
              "1                   1409.940000                       136.83   \n",
              "2                   1415.980000                       137.60   \n",
              "3                   1431.300000                       138.89   \n",
              "4                   1438.760000                       140.21   \n",
              "5                   1438.030000                       139.61   \n",
              "6                   1467.940000                       141.39   \n",
              "7                   1429.654286                       138.74   \n",
              "8                    869.330000                       103.88   \n",
              "9                    844.830000                       103.86   \n",
              "\n",
              "   ANNUAL RAINFALL (Millimeters)  \n",
              "0                         1149.7  \n",
              "1                         1282.3  \n",
              "2                         1092.1  \n",
              "3                         1568.0  \n",
              "4                         1379.7  \n",
              "5                         1008.7  \n",
              "6                            NaN  \n",
              "7                            NaN  \n",
              "8                         1623.2  \n",
              "9                         1160.5  "
            ],
            "text/html": [
              "\n",
              "  <div id=\"df-7fbcf58e-b758-4c28-9252-6f7c00baff88\">\n",
              "    <div class=\"colab-df-container\">\n",
              "      <div>\n",
              "<style scoped>\n",
              "    .dataframe tbody tr th:only-of-type {\n",
              "        vertical-align: middle;\n",
              "    }\n",
              "\n",
              "    .dataframe tbody tr th {\n",
              "        vertical-align: top;\n",
              "    }\n",
              "\n",
              "    .dataframe thead th {\n",
              "        text-align: right;\n",
              "    }\n",
              "</style>\n",
              "<table border=\"1\" class=\"dataframe\">\n",
              "  <thead>\n",
              "    <tr style=\"text-align: right;\">\n",
              "      <th></th>\n",
              "      <th>Dist Code</th>\n",
              "      <th>Year</th>\n",
              "      <th>State Code</th>\n",
              "      <th>State Name</th>\n",
              "      <th>Dist Name</th>\n",
              "      <th>RICE YIELD (Kg per ha)</th>\n",
              "      <th>WHEAT YIELD (Kg per ha)</th>\n",
              "      <th>SUGARCANE YIELD (Kg per ha)</th>\n",
              "      <th>MAIZE YIELD (Kg per ha)</th>\n",
              "      <th>NITROGEN SHARE IN NPK (Percent)</th>\n",
              "      <th>PHOSPHATE SHARE IN NPK (Percent)</th>\n",
              "      <th>POTASH SHARE IN NPK (Percent)</th>\n",
              "      <th>LENGTH OF GROWING PERIOD DAYS (Number)</th>\n",
              "      <th>TOTAL AREA (1000 ha)</th>\n",
              "      <th>NET CROPPED AREA (1000 ha)</th>\n",
              "      <th>GROSS CROPPED AREA (1000 ha)</th>\n",
              "      <th>CROPING INTENSITY (Percent)</th>\n",
              "      <th>ANNUAL RAINFALL (Millimeters)</th>\n",
              "    </tr>\n",
              "  </thead>\n",
              "  <tbody>\n",
              "    <tr>\n",
              "      <th>0</th>\n",
              "      <td>1</td>\n",
              "      <td>2010</td>\n",
              "      <td>14</td>\n",
              "      <td>Chhattisgarh</td>\n",
              "      <td>Durg</td>\n",
              "      <td>1695.77</td>\n",
              "      <td>994.69</td>\n",
              "      <td>256.96</td>\n",
              "      <td>1457.32</td>\n",
              "      <td>54.47</td>\n",
              "      <td>31.79</td>\n",
              "      <td>13.75</td>\n",
              "      <td>164.0</td>\n",
              "      <td>1988.17</td>\n",
              "      <td>1028.600000</td>\n",
              "      <td>1405.630000</td>\n",
              "      <td>136.65</td>\n",
              "      <td>1149.7</td>\n",
              "    </tr>\n",
              "    <tr>\n",
              "      <th>1</th>\n",
              "      <td>1</td>\n",
              "      <td>2011</td>\n",
              "      <td>14</td>\n",
              "      <td>Chhattisgarh</td>\n",
              "      <td>Durg</td>\n",
              "      <td>1756.23</td>\n",
              "      <td>1115.68</td>\n",
              "      <td>506.02</td>\n",
              "      <td>1285.56</td>\n",
              "      <td>53.56</td>\n",
              "      <td>33.69</td>\n",
              "      <td>12.75</td>\n",
              "      <td>164.0</td>\n",
              "      <td>1988.17</td>\n",
              "      <td>1030.410000</td>\n",
              "      <td>1409.940000</td>\n",
              "      <td>136.83</td>\n",
              "      <td>1282.3</td>\n",
              "    </tr>\n",
              "    <tr>\n",
              "      <th>2</th>\n",
              "      <td>1</td>\n",
              "      <td>2012</td>\n",
              "      <td>14</td>\n",
              "      <td>Chhattisgarh</td>\n",
              "      <td>Durg</td>\n",
              "      <td>1900.97</td>\n",
              "      <td>1087.10</td>\n",
              "      <td>252.98</td>\n",
              "      <td>1538.56</td>\n",
              "      <td>58.43</td>\n",
              "      <td>31.47</td>\n",
              "      <td>10.11</td>\n",
              "      <td>164.0</td>\n",
              "      <td>1988.17</td>\n",
              "      <td>1029.070000</td>\n",
              "      <td>1415.980000</td>\n",
              "      <td>137.60</td>\n",
              "      <td>1092.1</td>\n",
              "    </tr>\n",
              "    <tr>\n",
              "      <th>3</th>\n",
              "      <td>1</td>\n",
              "      <td>2013</td>\n",
              "      <td>14</td>\n",
              "      <td>Chhattisgarh</td>\n",
              "      <td>Durg</td>\n",
              "      <td>1581.86</td>\n",
              "      <td>1043.06</td>\n",
              "      <td>237.45</td>\n",
              "      <td>1742.20</td>\n",
              "      <td>58.05</td>\n",
              "      <td>30.36</td>\n",
              "      <td>11.59</td>\n",
              "      <td>164.0</td>\n",
              "      <td>1639.34</td>\n",
              "      <td>1030.520000</td>\n",
              "      <td>1431.300000</td>\n",
              "      <td>138.89</td>\n",
              "      <td>1568.0</td>\n",
              "    </tr>\n",
              "    <tr>\n",
              "      <th>4</th>\n",
              "      <td>1</td>\n",
              "      <td>2014</td>\n",
              "      <td>14</td>\n",
              "      <td>Chhattisgarh</td>\n",
              "      <td>Durg</td>\n",
              "      <td>1729.89</td>\n",
              "      <td>1151.49</td>\n",
              "      <td>602.17</td>\n",
              "      <td>1451.66</td>\n",
              "      <td>56.70</td>\n",
              "      <td>33.33</td>\n",
              "      <td>9.97</td>\n",
              "      <td>164.0</td>\n",
              "      <td>1640.28</td>\n",
              "      <td>1026.150000</td>\n",
              "      <td>1438.760000</td>\n",
              "      <td>140.21</td>\n",
              "      <td>1379.7</td>\n",
              "    </tr>\n",
              "    <tr>\n",
              "      <th>5</th>\n",
              "      <td>1</td>\n",
              "      <td>2015</td>\n",
              "      <td>14</td>\n",
              "      <td>Chhattisgarh</td>\n",
              "      <td>Durg</td>\n",
              "      <td>1076.95</td>\n",
              "      <td>1120.74</td>\n",
              "      <td>228.49</td>\n",
              "      <td>1467.17</td>\n",
              "      <td>57.14</td>\n",
              "      <td>32.69</td>\n",
              "      <td>10.17</td>\n",
              "      <td>164.0</td>\n",
              "      <td>1640.28</td>\n",
              "      <td>1030.000000</td>\n",
              "      <td>1438.030000</td>\n",
              "      <td>139.61</td>\n",
              "      <td>1008.7</td>\n",
              "    </tr>\n",
              "    <tr>\n",
              "      <th>6</th>\n",
              "      <td>1</td>\n",
              "      <td>2016</td>\n",
              "      <td>14</td>\n",
              "      <td>Chhattisgarh</td>\n",
              "      <td>Durg</td>\n",
              "      <td>2085.96</td>\n",
              "      <td>1263.55</td>\n",
              "      <td>389.38</td>\n",
              "      <td>2028.48</td>\n",
              "      <td>54.12</td>\n",
              "      <td>35.04</td>\n",
              "      <td>10.85</td>\n",
              "      <td>164.0</td>\n",
              "      <td>1988.17</td>\n",
              "      <td>1038.210000</td>\n",
              "      <td>1467.940000</td>\n",
              "      <td>141.39</td>\n",
              "      <td>NaN</td>\n",
              "    </tr>\n",
              "    <tr>\n",
              "      <th>7</th>\n",
              "      <td>1</td>\n",
              "      <td>2017</td>\n",
              "      <td>14</td>\n",
              "      <td>Chhattisgarh</td>\n",
              "      <td>Durg</td>\n",
              "      <td>1168.92</td>\n",
              "      <td>1153.77</td>\n",
              "      <td>181.06</td>\n",
              "      <td>1956.03</td>\n",
              "      <td>56.47</td>\n",
              "      <td>33.03</td>\n",
              "      <td>10.49</td>\n",
              "      <td>164.0</td>\n",
              "      <td>1838.94</td>\n",
              "      <td>1030.422857</td>\n",
              "      <td>1429.654286</td>\n",
              "      <td>138.74</td>\n",
              "      <td>NaN</td>\n",
              "    </tr>\n",
              "    <tr>\n",
              "      <th>8</th>\n",
              "      <td>2</td>\n",
              "      <td>2010</td>\n",
              "      <td>14</td>\n",
              "      <td>Chhattisgarh</td>\n",
              "      <td>Bastar</td>\n",
              "      <td>1905.45</td>\n",
              "      <td>2000.00</td>\n",
              "      <td>117.65</td>\n",
              "      <td>2025.21</td>\n",
              "      <td>52.94</td>\n",
              "      <td>30.45</td>\n",
              "      <td>16.61</td>\n",
              "      <td>194.0</td>\n",
              "      <td>3905.76</td>\n",
              "      <td>836.850000</td>\n",
              "      <td>869.330000</td>\n",
              "      <td>103.88</td>\n",
              "      <td>1623.2</td>\n",
              "    </tr>\n",
              "    <tr>\n",
              "      <th>9</th>\n",
              "      <td>2</td>\n",
              "      <td>2011</td>\n",
              "      <td>14</td>\n",
              "      <td>Chhattisgarh</td>\n",
              "      <td>Bastar</td>\n",
              "      <td>1231.23</td>\n",
              "      <td>1872.18</td>\n",
              "      <td>629.63</td>\n",
              "      <td>2063.00</td>\n",
              "      <td>54.65</td>\n",
              "      <td>34.03</td>\n",
              "      <td>11.32</td>\n",
              "      <td>194.0</td>\n",
              "      <td>3905.76</td>\n",
              "      <td>813.450000</td>\n",
              "      <td>844.830000</td>\n",
              "      <td>103.86</td>\n",
              "      <td>1160.5</td>\n",
              "    </tr>\n",
              "  </tbody>\n",
              "</table>\n",
              "</div>\n",
              "      <button class=\"colab-df-convert\" onclick=\"convertToInteractive('df-7fbcf58e-b758-4c28-9252-6f7c00baff88')\"\n",
              "              title=\"Convert this dataframe to an interactive table.\"\n",
              "              style=\"display:none;\">\n",
              "        \n",
              "  <svg xmlns=\"http://www.w3.org/2000/svg\" height=\"24px\"viewBox=\"0 0 24 24\"\n",
              "       width=\"24px\">\n",
              "    <path d=\"M0 0h24v24H0V0z\" fill=\"none\"/>\n",
              "    <path d=\"M18.56 5.44l.94 2.06.94-2.06 2.06-.94-2.06-.94-.94-2.06-.94 2.06-2.06.94zm-11 1L8.5 8.5l.94-2.06 2.06-.94-2.06-.94L8.5 2.5l-.94 2.06-2.06.94zm10 10l.94 2.06.94-2.06 2.06-.94-2.06-.94-.94-2.06-.94 2.06-2.06.94z\"/><path d=\"M17.41 7.96l-1.37-1.37c-.4-.4-.92-.59-1.43-.59-.52 0-1.04.2-1.43.59L10.3 9.45l-7.72 7.72c-.78.78-.78 2.05 0 2.83L4 21.41c.39.39.9.59 1.41.59.51 0 1.02-.2 1.41-.59l7.78-7.78 2.81-2.81c.8-.78.8-2.07 0-2.86zM5.41 20L4 18.59l7.72-7.72 1.47 1.35L5.41 20z\"/>\n",
              "  </svg>\n",
              "      </button>\n",
              "      \n",
              "  <style>\n",
              "    .colab-df-container {\n",
              "      display:flex;\n",
              "      flex-wrap:wrap;\n",
              "      gap: 12px;\n",
              "    }\n",
              "\n",
              "    .colab-df-convert {\n",
              "      background-color: #E8F0FE;\n",
              "      border: none;\n",
              "      border-radius: 50%;\n",
              "      cursor: pointer;\n",
              "      display: none;\n",
              "      fill: #1967D2;\n",
              "      height: 32px;\n",
              "      padding: 0 0 0 0;\n",
              "      width: 32px;\n",
              "    }\n",
              "\n",
              "    .colab-df-convert:hover {\n",
              "      background-color: #E2EBFA;\n",
              "      box-shadow: 0px 1px 2px rgba(60, 64, 67, 0.3), 0px 1px 3px 1px rgba(60, 64, 67, 0.15);\n",
              "      fill: #174EA6;\n",
              "    }\n",
              "\n",
              "    [theme=dark] .colab-df-convert {\n",
              "      background-color: #3B4455;\n",
              "      fill: #D2E3FC;\n",
              "    }\n",
              "\n",
              "    [theme=dark] .colab-df-convert:hover {\n",
              "      background-color: #434B5C;\n",
              "      box-shadow: 0px 1px 3px 1px rgba(0, 0, 0, 0.15);\n",
              "      filter: drop-shadow(0px 1px 2px rgba(0, 0, 0, 0.3));\n",
              "      fill: #FFFFFF;\n",
              "    }\n",
              "  </style>\n",
              "\n",
              "      <script>\n",
              "        const buttonEl =\n",
              "          document.querySelector('#df-7fbcf58e-b758-4c28-9252-6f7c00baff88 button.colab-df-convert');\n",
              "        buttonEl.style.display =\n",
              "          google.colab.kernel.accessAllowed ? 'block' : 'none';\n",
              "\n",
              "        async function convertToInteractive(key) {\n",
              "          const element = document.querySelector('#df-7fbcf58e-b758-4c28-9252-6f7c00baff88');\n",
              "          const dataTable =\n",
              "            await google.colab.kernel.invokeFunction('convertToInteractive',\n",
              "                                                     [key], {});\n",
              "          if (!dataTable) return;\n",
              "\n",
              "          const docLinkHtml = 'Like what you see? Visit the ' +\n",
              "            '<a target=\"_blank\" href=https://colab.research.google.com/notebooks/data_table.ipynb>data table notebook</a>'\n",
              "            + ' to learn more about interactive tables.';\n",
              "          element.innerHTML = '';\n",
              "          dataTable['output_type'] = 'display_data';\n",
              "          await google.colab.output.renderOutput(dataTable, element);\n",
              "          const docLink = document.createElement('div');\n",
              "          docLink.innerHTML = docLinkHtml;\n",
              "          element.appendChild(docLink);\n",
              "        }\n",
              "      </script>\n",
              "    </div>\n",
              "  </div>\n",
              "  "
            ]
          },
          "metadata": {},
          "execution_count": 32
        }
      ],
      "source": [
        "curr1.head(10)"
      ]
    },
    {
      "cell_type": "code",
      "execution_count": 33,
      "metadata": {
        "id": "ygTxUncglh9z"
      },
      "outputs": [],
      "source": [
        "#missing 2016 and 2017 years so let's average\n",
        "curr1['ANNUAL RAINFALL (Millimeters)'] = curr1.groupby(\"Dist Code\")['ANNUAL RAINFALL (Millimeters)'].transform(\n",
        "    lambda x: x.fillna(x.mean()))"
      ]
    },
    {
      "cell_type": "code",
      "execution_count": 34,
      "metadata": {
        "colab": {
          "base_uri": "https://localhost:8080/"
        },
        "id": "jyB9IZw6lh9z",
        "outputId": "c7c191ff-5d2a-4fb8-81a3-a68dd62b6df8"
      },
      "outputs": [
        {
          "output_type": "stream",
          "name": "stdout",
          "text": [
            "<class 'pandas.core.frame.DataFrame'>\n",
            "Int64Index: 2481 entries, 0 to 2480\n",
            "Data columns (total 18 columns):\n",
            " #   Column                                  Non-Null Count  Dtype  \n",
            "---  ------                                  --------------  -----  \n",
            " 0   Dist Code                               2481 non-null   int64  \n",
            " 1   Year                                    2481 non-null   int64  \n",
            " 2   State Code                              2481 non-null   int64  \n",
            " 3   State Name                              2481 non-null   object \n",
            " 4   Dist Name                               2481 non-null   object \n",
            " 5   RICE YIELD (Kg per ha)                  2481 non-null   float64\n",
            " 6   WHEAT YIELD (Kg per ha)                 2481 non-null   float64\n",
            " 7   SUGARCANE YIELD (Kg per ha)             2481 non-null   float64\n",
            " 8   MAIZE YIELD (Kg per ha)                 2481 non-null   float64\n",
            " 9   NITROGEN SHARE IN NPK (Percent)         2481 non-null   float64\n",
            " 10  PHOSPHATE SHARE IN NPK (Percent)        2481 non-null   float64\n",
            " 11  POTASH SHARE IN NPK (Percent)           2481 non-null   float64\n",
            " 12  LENGTH OF GROWING PERIOD DAYS (Number)  2241 non-null   float64\n",
            " 13  TOTAL AREA (1000 ha)                    2481 non-null   float64\n",
            " 14  NET CROPPED AREA (1000 ha)              2481 non-null   float64\n",
            " 15  GROSS CROPPED AREA (1000 ha)            2481 non-null   float64\n",
            " 16  CROPING INTENSITY (Percent)             2481 non-null   float64\n",
            " 17  ANNUAL RAINFALL (Millimeters)           2480 non-null   float64\n",
            "dtypes: float64(13), int64(3), object(2)\n",
            "memory usage: 368.3+ KB\n"
          ]
        }
      ],
      "source": [
        "curr1.info()"
      ]
    },
    {
      "cell_type": "code",
      "execution_count": 35,
      "metadata": {
        "colab": {
          "base_uri": "https://localhost:8080/"
        },
        "id": "wzQPK1VIlh9z",
        "outputId": "e1dc6d69-4618-4412-f5cc-482e518a437c"
      },
      "outputs": [
        {
          "output_type": "execute_result",
          "data": {
            "text/plain": [
              "(array([ 752, 1881, 1882, 1883, 1884, 1885, 1886, 1887, 1888, 1889, 1890,\n",
              "        1891, 1892, 1893, 1894, 1895, 1896, 1897, 1898, 1899, 1900, 1901,\n",
              "        1902, 1903, 1904, 1905, 1906, 1907, 1908, 1909, 1910, 1911, 1912,\n",
              "        1913, 1914, 1915, 1916, 1917, 1918, 1919, 1920, 1921, 1922, 1923,\n",
              "        1924, 1925, 1926, 1927, 1928, 1929, 1930, 1931, 1932, 1933, 1934,\n",
              "        1935, 1936, 1937, 1938, 1939, 1940, 1941, 1942, 1943, 1944, 1945,\n",
              "        1946, 1947, 1948, 1949, 1950, 1951, 1952, 1953, 1954, 1955, 1956,\n",
              "        1957, 1958, 1959, 1960, 1961, 1962, 1963, 1964, 1965, 1966, 1967,\n",
              "        1968, 1969, 1970, 1971, 1972, 1973, 1974, 1975, 1976, 1977, 1978,\n",
              "        1979, 1980, 1981, 1982, 1983, 1984, 1985, 1986, 1987, 1988, 1989,\n",
              "        1990, 1991, 1992, 1993, 1994, 1995, 1996, 1997, 1998, 1999, 2000,\n",
              "        2001, 2002, 2003, 2004, 2005, 2006, 2007, 2008, 2009, 2010, 2011,\n",
              "        2012, 2013, 2014, 2015, 2016, 2017, 2018, 2019, 2020, 2021, 2022,\n",
              "        2023, 2024, 2025, 2026, 2027, 2028, 2029, 2030, 2031, 2032, 2033,\n",
              "        2034, 2035, 2036, 2037, 2038, 2039, 2040, 2041, 2042, 2043, 2044,\n",
              "        2045, 2046, 2047, 2048, 2049, 2050, 2051, 2052, 2053, 2054, 2055,\n",
              "        2056, 2057, 2058, 2059, 2060, 2061, 2062, 2063, 2064, 2065, 2066,\n",
              "        2067, 2068, 2069, 2070, 2071, 2072, 2073, 2074, 2075, 2076, 2077,\n",
              "        2078, 2079, 2080, 2081, 2082, 2083, 2084, 2085, 2086, 2087, 2088,\n",
              "        2089, 2090, 2091, 2092, 2093, 2094, 2095, 2096, 2097, 2098, 2099,\n",
              "        2100, 2101, 2102, 2103, 2104, 2105, 2106, 2107, 2108, 2109, 2110,\n",
              "        2111, 2112, 2113, 2114, 2115, 2116, 2117, 2118, 2119, 2120]),\n",
              " array([17, 12, 12, 12, 12, 12, 12, 12, 12, 12, 12, 12, 12, 12, 12, 12, 12,\n",
              "        12, 12, 12, 12, 12, 12, 12, 12, 12, 12, 12, 12, 12, 12, 12, 12, 12,\n",
              "        12, 12, 12, 12, 12, 12, 12, 12, 12, 12, 12, 12, 12, 12, 12, 12, 12,\n",
              "        12, 12, 12, 12, 12, 12, 12, 12, 12, 12, 12, 12, 12, 12, 12, 12, 12,\n",
              "        12, 12, 12, 12, 12, 12, 12, 12, 12, 12, 12, 12, 12, 12, 12, 12, 12,\n",
              "        12, 12, 12, 12, 12, 12, 12, 12, 12, 12, 12, 12, 12, 12, 12, 12, 12,\n",
              "        12, 12, 12, 12, 12, 12, 12, 12, 12, 12, 12, 12, 12, 12, 12, 12, 12,\n",
              "        12, 12, 12, 12, 12, 12, 12, 12, 12, 12, 12, 12, 12, 12, 12, 12, 12,\n",
              "        12, 12, 12, 12, 12, 12, 12, 12, 12, 12, 12, 12, 12, 12, 12, 12, 12,\n",
              "        12, 12, 12, 12, 12, 12, 12, 12, 12, 12, 12, 12, 12, 12, 12, 12, 12,\n",
              "        12, 12, 12, 12, 12, 12, 12, 12, 12, 12, 12, 12, 12, 12, 12, 12, 12,\n",
              "        12, 12, 12, 12, 12, 12, 12, 12, 12, 12, 12, 12, 12, 12, 12, 12, 12,\n",
              "        12, 12, 12, 12, 12, 12, 12, 12, 12, 12, 12, 12, 12, 12, 12, 12, 12,\n",
              "        12, 12, 12, 12, 12, 12, 12, 12, 12, 12, 12, 12, 12, 12, 12, 12, 12,\n",
              "        12, 12, 12]))"
            ]
          },
          "metadata": {},
          "execution_count": 35
        }
      ],
      "source": [
        "#lots of nulls in growing days but that has large affect on regressor so let's drop rows and keep that column\n",
        "np.where(curr1.isnull() == True)"
      ]
    },
    {
      "cell_type": "code",
      "execution_count": 36,
      "metadata": {
        "id": "zAhdszZqlh9z"
      },
      "outputs": [],
      "source": [
        "curr1 = curr1.dropna()"
      ]
    },
    {
      "cell_type": "code",
      "execution_count": 37,
      "metadata": {
        "colab": {
          "base_uri": "https://localhost:8080/"
        },
        "id": "v0W5ESrylh9z",
        "outputId": "32f369c3-7f6a-431c-9333-eaaa344215ba"
      },
      "outputs": [
        {
          "output_type": "stream",
          "name": "stdout",
          "text": [
            "<class 'pandas.core.frame.DataFrame'>\n",
            "Int64Index: 2240 entries, 0 to 2480\n",
            "Data columns (total 18 columns):\n",
            " #   Column                                  Non-Null Count  Dtype  \n",
            "---  ------                                  --------------  -----  \n",
            " 0   Dist Code                               2240 non-null   int64  \n",
            " 1   Year                                    2240 non-null   int64  \n",
            " 2   State Code                              2240 non-null   int64  \n",
            " 3   State Name                              2240 non-null   object \n",
            " 4   Dist Name                               2240 non-null   object \n",
            " 5   RICE YIELD (Kg per ha)                  2240 non-null   float64\n",
            " 6   WHEAT YIELD (Kg per ha)                 2240 non-null   float64\n",
            " 7   SUGARCANE YIELD (Kg per ha)             2240 non-null   float64\n",
            " 8   MAIZE YIELD (Kg per ha)                 2240 non-null   float64\n",
            " 9   NITROGEN SHARE IN NPK (Percent)         2240 non-null   float64\n",
            " 10  PHOSPHATE SHARE IN NPK (Percent)        2240 non-null   float64\n",
            " 11  POTASH SHARE IN NPK (Percent)           2240 non-null   float64\n",
            " 12  LENGTH OF GROWING PERIOD DAYS (Number)  2240 non-null   float64\n",
            " 13  TOTAL AREA (1000 ha)                    2240 non-null   float64\n",
            " 14  NET CROPPED AREA (1000 ha)              2240 non-null   float64\n",
            " 15  GROSS CROPPED AREA (1000 ha)            2240 non-null   float64\n",
            " 16  CROPING INTENSITY (Percent)             2240 non-null   float64\n",
            " 17  ANNUAL RAINFALL (Millimeters)           2240 non-null   float64\n",
            "dtypes: float64(13), int64(3), object(2)\n",
            "memory usage: 332.5+ KB\n"
          ]
        }
      ],
      "source": [
        "curr1.info()"
      ]
    },
    {
      "cell_type": "code",
      "execution_count": 38,
      "metadata": {
        "id": "39O88CoAlh9z"
      },
      "outputs": [],
      "source": [
        "curr1.to_csv(\"DS_Project1_data_merged.csv\")"
      ]
    },
    {
      "cell_type": "code",
      "execution_count": 39,
      "metadata": {
        "id": "3TqVLCXLlh9z"
      },
      "outputs": [],
      "source": [
        "X= curr1.drop(columns=['RICE YIELD (Kg per ha)','WHEAT YIELD (Kg per ha)', 'SUGARCANE YIELD (Kg per ha)','MAIZE YIELD (Kg per ha)','Dist Code','Year','State Code','State Name','Dist Name'])\n",
        "y= curr1['RICE YIELD (Kg per ha)']"
      ]
    },
    {
      "cell_type": "code",
      "execution_count": 44,
      "metadata": {
        "id": "3EytnSpRlh9z"
      },
      "outputs": [],
      "source": [
        "X_train, X_test, y_train, y_test = train_test_split(X, y, train_size=0.70, random_state=21)\n",
        "X_tune, X_test, y_tune, y_test = train_test_split(X_test,y_test,  train_size = 0.50, random_state=49)"
      ]
    },
    {
      "cell_type": "code",
      "execution_count": null,
      "metadata": {
        "id": "HOuU-tiqlh90"
      },
      "outputs": [],
      "source": [
        "y_test.info()"
      ]
    },
    {
      "cell_type": "code",
      "execution_count": 47,
      "metadata": {
        "colab": {
          "base_uri": "https://localhost:8080/"
        },
        "id": "CnkVUSg4lh90",
        "outputId": "c97c5722-9727-4b8e-f03b-5ee047d6c062"
      },
      "outputs": [
        {
          "output_type": "stream",
          "name": "stdout",
          "text": [
            "<class 'pandas.core.frame.DataFrame'>\n",
            "Int64Index: 1568 entries, 323 to 1232\n",
            "Data columns (total 9 columns):\n",
            " #   Column                                  Non-Null Count  Dtype  \n",
            "---  ------                                  --------------  -----  \n",
            " 0   NITROGEN SHARE IN NPK (Percent)         1568 non-null   float64\n",
            " 1   PHOSPHATE SHARE IN NPK (Percent)        1568 non-null   float64\n",
            " 2   POTASH SHARE IN NPK (Percent)           1568 non-null   float64\n",
            " 3   LENGTH OF GROWING PERIOD DAYS (Number)  1568 non-null   float64\n",
            " 4   TOTAL AREA (1000 ha)                    1568 non-null   float64\n",
            " 5   NET CROPPED AREA (1000 ha)              1568 non-null   float64\n",
            " 6   GROSS CROPPED AREA (1000 ha)            1568 non-null   float64\n",
            " 7   CROPING INTENSITY (Percent)             1568 non-null   float64\n",
            " 8   ANNUAL RAINFALL (Millimeters)           1568 non-null   float64\n",
            "dtypes: float64(9)\n",
            "memory usage: 122.5 KB\n"
          ]
        }
      ],
      "source": [
        "X_train.info()"
      ]
    },
    {
      "cell_type": "code",
      "execution_count": 46,
      "metadata": {
        "colab": {
          "base_uri": "https://localhost:8080/"
        },
        "id": "7sVYwksrlh90",
        "outputId": "d16b9211-dc92-4bb1-c629-bb8c430fb017"
      },
      "outputs": [
        {
          "output_type": "execute_result",
          "data": {
            "text/plain": [
              "DecisionTreeRegressor()"
            ]
          },
          "metadata": {},
          "execution_count": 46
        }
      ],
      "source": [
        "cl =DecisionTreeRegressor()\n",
        "cl.fit(X_train, y_train)"
      ]
    },
    {
      "cell_type": "code",
      "execution_count": 49,
      "metadata": {
        "id": "DrNG6Tjqlh90"
      },
      "outputs": [],
      "source": [
        "pred = cl.predict(X_test)"
      ]
    },
    {
      "cell_type": "code",
      "execution_count": 50,
      "metadata": {
        "colab": {
          "base_uri": "https://localhost:8080/"
        },
        "id": "mBxY5A6Elh90",
        "outputId": "8629656d-af13-437f-f1b1-6c4392bb0b2e"
      },
      "outputs": [
        {
          "output_type": "stream",
          "name": "stdout",
          "text": [
            "0.5023369895806851\n"
          ]
        }
      ],
      "source": [
        "print(cl.score(X_test, y_test))"
      ]
    },
    {
      "cell_type": "code",
      "execution_count": 51,
      "metadata": {
        "colab": {
          "base_uri": "https://localhost:8080/"
        },
        "id": "nWESU9rzlh90",
        "outputId": "43e1ea67-1eab-4b8d-fc76-b8cafc00a5b7"
      },
      "outputs": [
        {
          "output_type": "stream",
          "name": "stdout",
          "text": [
            "0.49951863824223675\n"
          ]
        }
      ],
      "source": [
        "print(cl.score(X_tune, y_tune))"
      ]
    },
    {
      "cell_type": "code",
      "execution_count": 52,
      "metadata": {
        "colab": {
          "base_uri": "https://localhost:8080/"
        },
        "id": "htRktRUjlh90",
        "outputId": "fb0a601d-7623-428e-dea7-07c81a4c2aff"
      },
      "outputs": [
        {
          "output_type": "execute_result",
          "data": {
            "text/plain": [
              "0.5023369895806851"
            ]
          },
          "metadata": {},
          "execution_count": 52
        }
      ],
      "source": [
        "metrics.r2_score(y_test, pred)"
      ]
    },
    {
      "cell_type": "code",
      "execution_count": 53,
      "metadata": {
        "colab": {
          "base_uri": "https://localhost:8080/"
        },
        "id": "Otl71rw7lh91",
        "outputId": "f6b7e3f7-f305-48de-d47a-3ab603ba1937"
      },
      "outputs": [
        {
          "output_type": "execute_result",
          "data": {
            "text/plain": [
              "799.1228075230812"
            ]
          },
          "metadata": {},
          "execution_count": 53
        }
      ],
      "source": [
        "np.sqrt(metrics.mean_squared_error(y_test, pred))"
      ]
    },
    {
      "cell_type": "code",
      "execution_count": 54,
      "metadata": {
        "colab": {
          "base_uri": "https://localhost:8080/"
        },
        "id": "npzt8pDIlh91",
        "outputId": "2acd3965-03b4-4f50-9dbf-a16aec16a3dc"
      },
      "outputs": [
        {
          "output_type": "stream",
          "name": "stdout",
          "text": [
            "530.1624404761906\n"
          ]
        }
      ],
      "source": [
        "print(metrics.mean_absolute_error(y_test, pred)) #nice!"
      ]
    },
    {
      "cell_type": "code",
      "execution_count": 55,
      "metadata": {
        "colab": {
          "base_uri": "https://localhost:8080/"
        },
        "id": "1JJR0MkHlh91",
        "outputId": "3b876c95-234f-4f99-938e-edd3b5a58073"
      },
      "outputs": [
        {
          "output_type": "stream",
          "name": "stdout",
          "text": [
            "                                        importance\n",
            "PHOSPHATE SHARE IN NPK (Percent)          0.157773\n",
            "TOTAL AREA (1000 ha)                      0.149521\n",
            "CROPING INTENSITY (Percent)               0.135055\n",
            "LENGTH OF GROWING PERIOD DAYS (Number)    0.133430\n",
            "NET CROPPED AREA (1000 ha)                0.102063\n",
            "GROSS CROPPED AREA (1000 ha)              0.100689\n",
            "POTASH SHARE IN NPK (Percent)             0.089245\n",
            "ANNUAL RAINFALL (Millimeters)             0.070920\n",
            "NITROGEN SHARE IN NPK (Percent)           0.061305\n"
          ]
        }
      ],
      "source": [
        "varimp=pd.DataFrame(cl.feature_importances_,index = X.columns,columns=['importance']).sort_values('importance', ascending=False)\n",
        "print(varimp)"
      ]
    },
    {
      "cell_type": "code",
      "source": [
        "x_train, x_test, y_train, y_test = train_test_split(x, y, test_size=0.30, random_state=42)"
      ],
      "metadata": {
        "id": "fsTczNhnrasX"
      },
      "execution_count": null,
      "outputs": []
    },
    {
      "cell_type": "code",
      "source": [
        "clf = MultiOutputRegressor(RandomForestRegressor(max_depth=2, random_state=0))\n",
        "clf.fit(X_train, y_train)"
      ],
      "metadata": {
        "colab": {
          "base_uri": "https://localhost:8080/",
          "height": 305
        },
        "id": "RtpZ79Udpxdf",
        "outputId": "3c2aea23-5f64-4d8a-8a80-781be4f0bf45"
      },
      "execution_count": 57,
      "outputs": [
        {
          "output_type": "error",
          "ename": "ValueError",
          "evalue": "ignored",
          "traceback": [
            "\u001b[0;31m---------------------------------------------------------------------------\u001b[0m",
            "\u001b[0;31mValueError\u001b[0m                                Traceback (most recent call last)",
            "\u001b[0;32m<ipython-input-57-8f9602270726>\u001b[0m in \u001b[0;36m<module>\u001b[0;34m\u001b[0m\n\u001b[1;32m      1\u001b[0m \u001b[0mclf\u001b[0m \u001b[0;34m=\u001b[0m \u001b[0mMultiOutputRegressor\u001b[0m\u001b[0;34m(\u001b[0m\u001b[0mRandomForestRegressor\u001b[0m\u001b[0;34m(\u001b[0m\u001b[0mmax_depth\u001b[0m\u001b[0;34m=\u001b[0m\u001b[0;36m2\u001b[0m\u001b[0;34m,\u001b[0m \u001b[0mrandom_state\u001b[0m\u001b[0;34m=\u001b[0m\u001b[0;36m0\u001b[0m\u001b[0;34m)\u001b[0m\u001b[0;34m)\u001b[0m\u001b[0;34m\u001b[0m\u001b[0;34m\u001b[0m\u001b[0m\n\u001b[0;32m----> 2\u001b[0;31m \u001b[0mclf\u001b[0m\u001b[0;34m.\u001b[0m\u001b[0mfit\u001b[0m\u001b[0;34m(\u001b[0m\u001b[0mX_train\u001b[0m\u001b[0;34m,\u001b[0m \u001b[0my_train\u001b[0m\u001b[0;34m)\u001b[0m\u001b[0;34m\u001b[0m\u001b[0;34m\u001b[0m\u001b[0m\n\u001b[0m",
            "\u001b[0;32m/usr/local/lib/python3.8/dist-packages/sklearn/multioutput.py\u001b[0m in \u001b[0;36mfit\u001b[0;34m(self, X, y, sample_weight, **fit_params)\u001b[0m\n\u001b[1;32m    188\u001b[0m \u001b[0;34m\u001b[0m\u001b[0m\n\u001b[1;32m    189\u001b[0m         \u001b[0;32mif\u001b[0m \u001b[0my\u001b[0m\u001b[0;34m.\u001b[0m\u001b[0mndim\u001b[0m \u001b[0;34m==\u001b[0m \u001b[0;36m1\u001b[0m\u001b[0;34m:\u001b[0m\u001b[0;34m\u001b[0m\u001b[0;34m\u001b[0m\u001b[0m\n\u001b[0;32m--> 190\u001b[0;31m             raise ValueError(\n\u001b[0m\u001b[1;32m    191\u001b[0m                 \u001b[0;34m\"y must have at least two dimensions for \"\u001b[0m\u001b[0;34m\u001b[0m\u001b[0;34m\u001b[0m\u001b[0m\n\u001b[1;32m    192\u001b[0m                 \u001b[0;34m\"multi-output regression but has only one.\"\u001b[0m\u001b[0;34m\u001b[0m\u001b[0;34m\u001b[0m\u001b[0m\n",
            "\u001b[0;31mValueError\u001b[0m: y must have at least two dimensions for multi-output regression but has only one."
          ]
        }
      ]
    },
    {
      "cell_type": "code",
      "source": [
        "clf.predict(X_test[[0]])"
      ],
      "metadata": {
        "id": "vlyP_nepqree"
      },
      "execution_count": null,
      "outputs": []
    },
    {
      "cell_type": "code",
      "source": [
        "clf.score(X_test, y_test, sample_weight=None)"
      ],
      "metadata": {
        "id": "4ttA8WXcquDR"
      },
      "execution_count": null,
      "outputs": []
    }
  ],
  "metadata": {
    "interpreter": {
      "hash": "aee8b7b246df8f9039afb4144a1f6fd8d2ca17a180786b69acc140d282b71a49"
    },
    "kernelspec": {
      "display_name": "Python 3.9.13 64-bit",
      "language": "python",
      "name": "python3"
    },
    "language_info": {
      "codemirror_mode": {
        "name": "ipython",
        "version": 3
      },
      "file_extension": ".py",
      "mimetype": "text/x-python",
      "name": "python",
      "nbconvert_exporter": "python",
      "pygments_lexer": "ipython3",
      "version": "3.9.13"
    },
    "orig_nbformat": 4,
    "colab": {
      "provenance": [],
      "include_colab_link": true
    }
  },
  "nbformat": 4,
  "nbformat_minor": 0
}